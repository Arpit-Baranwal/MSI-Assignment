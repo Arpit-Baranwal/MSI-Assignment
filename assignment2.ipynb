{
  "nbformat": 4,
  "nbformat_minor": 0,
  "metadata": {
    "colab": {
      "provenance": [],
      "authorship_tag": "ABX9TyOAIy52mV/EzLk2dwCNpo3l",
      "include_colab_link": true
    },
    "kernelspec": {
      "name": "python3",
      "display_name": "Python 3"
    },
    "language_info": {
      "name": "python"
    }
  },
  "cells": [
    {
      "cell_type": "markdown",
      "metadata": {
        "id": "view-in-github",
        "colab_type": "text"
      },
      "source": [
        "<a href=\"https://colab.research.google.com/github/Arpit-Baranwal/Github-creation/blob/master/assignment2.ipynb\" target=\"_parent\"><img src=\"https://colab.research.google.com/assets/colab-badge.svg\" alt=\"Open In Colab\"/></a>"
      ]
    },
    {
      "cell_type": "code",
      "execution_count": 9,
      "metadata": {
        "colab": {
          "base_uri": "https://localhost:8080/"
        },
        "id": "NmEE6yAXIxH6",
        "outputId": "69bd556a-99d2-4f58-b40d-90cb9d128b48"
      },
      "outputs": [
        {
          "output_type": "stream",
          "name": "stdout",
          "text": [
            "Drive already mounted at /content/drive; to attempt to forcibly remount, call drive.mount(\"/content/drive\", force_remount=True).\n"
          ]
        }
      ],
      "source": [
        "from google.colab import drive\n",
        "drive.mount('/content/drive')"
      ]
    },
    {
      "cell_type": "code",
      "source": [
        "%cd /content/drive/MyDrive/Colab Notebooks/Ex2Material"
      ],
      "metadata": {
        "colab": {
          "base_uri": "https://localhost:8080/"
        },
        "id": "05UsNU4FwbsH",
        "outputId": "99fee173-95b6-456c-f90f-2e036b620934"
      },
      "execution_count": 10,
      "outputs": [
        {
          "output_type": "stream",
          "name": "stdout",
          "text": [
            "/content/drive/MyDrive/Colab Notebooks/Ex2Material\n"
          ]
        }
      ]
    },
    {
      "cell_type": "code",
      "source": [
        "import matplotlib.pyplot as plt\n",
        "import numpy as np"
      ],
      "metadata": {
        "id": "IqlQktngw4zg"
      },
      "execution_count": 11,
      "outputs": []
    },
    {
      "cell_type": "code",
      "source": [
        "b = np.load('/content/drive/MyDrive/Colab Notebooks/Ex2Material/exercise2_task4_refSol.npz')"
      ],
      "metadata": {
        "id": "Lq_DUkOO0RmP"
      },
      "execution_count": 12,
      "outputs": []
    },
    {
      "cell_type": "code",
      "source": [
        "np.shape(b)"
      ],
      "metadata": {
        "colab": {
          "base_uri": "https://localhost:8080/"
        },
        "id": "E9OCbDTP0i0-",
        "outputId": "743ce434-d39e-46ff-dfc0-c067883e0a67"
      },
      "execution_count": 13,
      "outputs": [
        {
          "output_type": "execute_result",
          "data": {
            "text/plain": [
              "(13,)"
            ]
          },
          "metadata": {},
          "execution_count": 13
        }
      ]
    },
    {
      "cell_type": "code",
      "source": [
        "plt.figure(1)\n",
        "plt.xlim([0,100])\n",
        "plt.ylim([0,50])\n",
        "plt.xlabel(r\"Temperature - $\\Delta T(k)$\")\n",
        "plt.ylabel(r\"Length of steel bar - $L(k)$\")\n",
        "\n",
        "# to be used only in plotting a line\n",
        "dT_line = np.linspace(0, 100)"
      ],
      "metadata": {
        "colab": {
          "base_uri": "https://localhost:8080/",
          "height": 287
        },
        "id": "-FxvUNkW0j4f",
        "outputId": "55982638-2149-4ff0-84ba-b16b07601eb6"
      },
      "execution_count": 14,
      "outputs": [
        {
          "output_type": "display_data",
          "data": {
            "text/plain": [
              "<Figure size 432x288 with 1 Axes>"
            ],
            "image/png": "[encoded data removed]"
          },
          "metadata": {
            "needs_background": "light"
          }
        }
      ]
    },
    {
      "cell_type": "code",
      "source": [
        "dT = [5, 15, 35, 60]\n",
        "L = [6.55, 9.63, 17.24, 29.64]"
      ],
      "metadata": {
        "id": "ZT1sSxuc0xwB"
      },
      "execution_count": 15,
      "outputs": []
    },
    {
      "cell_type": "code",
      "source": [
        "plt.plot(dT,L,'x')"
      ],
      "metadata": {
        "colab": {
          "base_uri": "https://localhost:8080/",
          "height": 282
        },
        "id": "iejjRtQO1YOL",
        "outputId": "bf374406-93b4-447f-e207-9ce9dc4cae34"
      },
      "execution_count": 16,
      "outputs": [
        {
          "output_type": "execute_result",
          "data": {
            "text/plain": [
              "[<matplotlib.lines.Line2D at 0x7fa27ca828d0>]"
            ]
          },
          "metadata": {},
          "execution_count": 16
        },
        {
          "output_type": "display_data",
          "data": {
            "text/plain": [
              "<Figure size 432x288 with 1 Axes>"
            ],
            "image/png": "[encoded data removed]"
          },
          "metadata": {
            "needs_background": "light"
          }
        }
      ]
    },
    {
      "cell_type": "code",
      "source": [
        "alpha = 0.005\n",
        "A = alpha * L[0]\n",
        "A_opt = (np.sum(L) - 4*L[0]) / (np.sum(dT))\n",
        "L0_opt = (np.sum(L) - A * np.sum(dT))/4\n",
        "\n",
        "# for plotting:\n",
        "L_1d = A_opt * dT_line + L0_opt\n",
        "plt.plot(dT_line, L_1d, \"g\")\n",
        "plt.show()"
      ],
      "metadata": {
        "colab": {
          "base_uri": "https://localhost:8080/",
          "height": 265
        },
        "id": "QCXxnCWl1zyG",
        "outputId": "5f2eadfe-9d1b-45ed-8b6b-b0e704cb1b69"
      },
      "execution_count": 24,
      "outputs": [
        {
          "output_type": "display_data",
          "data": {
            "text/plain": [
              "<Figure size 432x288 with 1 Axes>"
            ],
            "image/png": "[encoded data removed]"
          },
          "metadata": {
            "needs_background": "light"
          }
        }
      ]
    },
    {
      "cell_type": "code",
      "source": [
        "poly_coeffs = np.polyfit(dT,L,3)\n",
        "\n",
        "# evaluate the polynomial with over the interval\n",
        "L_3d = np.polyval(poly_coeffs,dT)\n",
        "\n",
        "# plot the fit\n",
        "plt.plot(dT,L_3d)"
      ],
      "metadata": {
        "colab": {
          "base_uri": "https://localhost:8080/",
          "height": 282
        },
        "id": "PWJH3iBIt2nB",
        "outputId": "10232625-cccc-46b7-ca44-5e2efd1bb4c8"
      },
      "execution_count": 25,
      "outputs": [
        {
          "output_type": "execute_result",
          "data": {
            "text/plain": [
              "[<matplotlib.lines.Line2D at 0x7fa27bab9090>]"
            ]
          },
          "metadata": {},
          "execution_count": 25
        },
        {
          "output_type": "display_data",
          "data": {
            "text/plain": [
              "<Figure size 432x288 with 1 Axes>"
            ],
            "image/png": "[encoded data removed]"
          },
          "metadata": {
            "needs_background": "light"
          }
        }
      ]
    },
    {
      "cell_type": "code",
      "source": [
        "deltaT_val = np.append(dT,70)\n",
        "L_val = np.append(L,32.89)\n",
        "\n",
        "plt.plot(deltaT_val, L_val, \"x\")\n",
        "\n",
        "L_3d = np.polyval(poly_coeffs,deltaT_val)\n",
        "\n",
        "# plot the fit\n",
        "plt.plot(deltaT_val,L_3d)\n",
        "\n",
        "\n",
        "plt.legend([\"original dataset\",\"first order fit\",\"third order fit\",\"validation datapoint\"])\n",
        "plt.show()"
      ],
      "metadata": {
        "colab": {
          "base_uri": "https://localhost:8080/",
          "height": 265
        },
        "id": "jLCUc0xt255X",
        "outputId": "7a8615b2-fa52-4460-ca8d-e5f4cf0ae239"
      },
      "execution_count": 26,
      "outputs": [
        {
          "output_type": "display_data",
          "data": {
            "text/plain": [
              "<Figure size 432x288 with 1 Axes>"
            ],
            "image/png": "[encoded data removed]"
          },
          "metadata": {
            "needs_background": "light"
          }
        }
      ]
    },
    {
      "cell_type": "code",
      "source": [],
      "metadata": {
        "id": "96V0WiCP8EFg"
      },
      "execution_count": null,
      "outputs": []
    }
  ]
}