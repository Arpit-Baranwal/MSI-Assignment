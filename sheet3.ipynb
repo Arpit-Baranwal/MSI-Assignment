{
  "nbformat": 4,
  "nbformat_minor": 0,
  "metadata": {
    "colab": {
      "provenance": [],
      "collapsed_sections": [],
      "authorship_tag": "ABX9TyNF8TSNylkDeVZrVtsecypr",
      "include_colab_link": true
    },
    "kernelspec": {
      "name": "python3",
      "display_name": "Python 3"
    },
    "language_info": {
      "name": "python"
    }
  },
  "cells": [
    {
      "cell_type": "markdown",
      "metadata": {
        "id": "view-in-github",
        "colab_type": "text"
      },
      "source": [
        "<a href=\"https://colab.research.google.com/github/Arpit-Baranwal/Github-creation/blob/master/sheet3.ipynb\" target=\"_parent\"><img src=\"https://colab.research.google.com/assets/colab-badge.svg\" alt=\"Open In Colab\"/></a>"
      ]
    },
    {
      "cell_type": "code",
      "execution_count": null,
      "metadata": {
        "colab": {
          "base_uri": "https://localhost:8080/"
        },
        "id": "NmEE6yAXIxH6",
        "outputId": "5bb5d5c3-da2e-441b-b125-6c23cca9b0e9"
      },
      "outputs": [
        {
          "output_type": "stream",
          "name": "stdout",
          "text": [
            "Mounted at /content/drive\n"
          ]
        }
      ],
      "source": [
        "from google.colab import drive\n",
        "drive.mount('/content/drive')"
      ]
    },
    {
      "cell_type": "code",
      "source": [
        "%cd /content/drive/MyDrive/Colab Notebooks/Ex3Material"
      ],
      "metadata": {
        "colab": {
          "base_uri": "https://localhost:8080/"
        },
        "id": "05UsNU4FwbsH",
        "outputId": "aeca8b42-b5be-4422-a41d-5ef666f221dc"
      },
      "execution_count": null,
      "outputs": [
        {
          "output_type": "stream",
          "name": "stdout",
          "text": [
            "/content/drive/MyDrive/Colab Notebooks/Ex3Material\n"
          ]
        }
      ]
    },
    {
      "cell_type": "code",
      "source": [
        "import matplotlib.pyplot as plt\n",
        "import numpy as np"
      ],
      "metadata": {
        "id": "IqlQktngw4zg"
      },
      "execution_count": null,
      "outputs": []
    },
    {
      "cell_type": "code",
      "source": [
        "b = np.load('/content/drive/MyDrive/Colab Notebooks/Ex3Material/exercise3_task4_dataset.npz')"
      ],
      "metadata": {
        "id": "Lq_DUkOO0RmP"
      },
      "execution_count": null,
      "outputs": []
    },
    {
      "cell_type": "code",
      "source": [
        "i1 = b['i1']\n",
        "u1 = b['u1']\n",
        "i2 = b['i2']\n",
        "u2 = b['u2']\n",
        "N = 2000"
      ],
      "metadata": {
        "id": "E9OCbDTP0i0-"
      },
      "execution_count": null,
      "outputs": []
    },
    {
      "cell_type": "code",
      "source": [
        "plt.figure(1)\n",
        "plt.subplot(2,1,1)\n",
        "plt.plot(i1,u1)\n",
        "plt.subplot(2,1,2)\n",
        "plt.plot(i2,u2)"
      ],
      "metadata": {
        "colab": {
          "base_uri": "https://localhost:8080/",
          "height": 282
        },
        "id": "_XEIf4N9Gwv3",
        "outputId": "c8558787-fedc-4892-c0d9-68576a136c3c"
      },
      "execution_count": null,
      "outputs": [
        {
          "output_type": "execute_result",
          "data": {
            "text/plain": [
              "[<matplotlib.lines.Line2D at 0x7fe4130d8cd0>]"
            ]
          },
          "metadata": {},
          "execution_count": 6
        },
        {
          "output_type": "display_data",
          "data": {
            "text/plain": [
              "<Figure size 432x288 with 2 Axes>"
            ],
            "image/png": "[encoded data removed]"
          },
          "metadata": {
            "needs_background": "light"
          }
        }
      ]
    },
    {
      "cell_type": "code",
      "source": [
        "\n",
        "x= np.ones((2000,1))"
      ],
      "metadata": {
        "id": "-FxvUNkW0j4f"
      },
      "execution_count": null,
      "outputs": []
    },
    {
      "cell_type": "code",
      "source": [
        "np.shape(x)"
      ],
      "metadata": {
        "colab": {
          "base_uri": "https://localhost:8080/"
        },
        "id": "HCFFUKtvX3sR",
        "outputId": "20344ba4-09ad-4707-ddf1-ac8a169470fd"
      },
      "execution_count": null,
      "outputs": [
        {
          "output_type": "execute_result",
          "data": {
            "text/plain": [
              "(2000, 1)"
            ]
          },
          "metadata": {},
          "execution_count": 28
        }
      ]
    },
    {
      "cell_type": "code",
      "source": [
        "con_1 = np.concatenate((x,i1),axis=1)\n",
        "con_2 = np.concatenate((x,i2),axis=1)"
      ],
      "metadata": {
        "id": "ZT1sSxuc0xwB"
      },
      "execution_count": null,
      "outputs": []
    },
    {
      "cell_type": "code",
      "source": [
        "Phi1 = np.linalg.pinv(con_1)\n",
        "Phi2 = np.linalg.pinv(con_2)"
      ],
      "metadata": {
        "id": "iejjRtQO1YOL"
      },
      "execution_count": null,
      "outputs": []
    },
    {
      "cell_type": "code",
      "source": [
        "theta_star1=Phi1.dot(u1)\n",
        "theta_star2=Phi2.dot(u2)"
      ],
      "metadata": {
        "id": "QzsX3GS1PP-h"
      },
      "execution_count": null,
      "outputs": []
    },
    {
      "cell_type": "code",
      "source": [
        "np.shape(theta_star1)"
      ],
      "metadata": {
        "colab": {
          "base_uri": "https://localhost:8080/"
        },
        "id": "yDTm43F0P8TP",
        "outputId": "108d9cdc-589e-438d-ae73-03e4b3ac49f7"
      },
      "execution_count": null,
      "outputs": [
        {
          "output_type": "execute_result",
          "data": {
            "text/plain": [
              "(2, 1)"
            ]
          },
          "metadata": {},
          "execution_count": 14
        }
      ]
    },
    {
      "cell_type": "code",
      "source": [
        "theta_star1[0]"
      ],
      "metadata": {
        "colab": {
          "base_uri": "https://localhost:8080/"
        },
        "id": "i39xwO1eQBA_",
        "outputId": "68d1e92a-e571-41a4-c8e5-4490e26d2a67"
      },
      "execution_count": null,
      "outputs": [
        {
          "output_type": "execute_result",
          "data": {
            "text/plain": [
              "array([4.92901884])"
            ]
          },
          "metadata": {},
          "execution_count": 15
        }
      ]
    },
    {
      "cell_type": "code",
      "source": [
        "R_est1 = theta_star1[1]\n",
        "E_est1 = theta_star1[0]\n",
        "R_est2 = theta_star2[1]\n",
        "E_est2 = theta_star2[0]\n",
        "\n",
        "plt.figure(1)\n",
        "plt.subplot(2,1,1)\n",
        "i_sample_1 = np.linspace(0, 0.01);\n",
        "i_sample_2 = np.linspace(0, 0.01);\n",
        "plt.plot(i_sample_1, np.polyval([R_est1, E_est1], i_sample_1))\n",
        "plt.subplot(2,1,2)\n",
        "plt.plot(i_sample_2, np.polyval([R_est2, E_est2], i_sample_2))"
      ],
      "metadata": {
        "colab": {
          "base_uri": "https://localhost:8080/",
          "height": 282
        },
        "id": "QCXxnCWl1zyG",
        "outputId": "ed1cf007-64ec-45f2-c7c2-2320c6773edb"
      },
      "execution_count": null,
      "outputs": [
        {
          "output_type": "execute_result",
          "data": {
            "text/plain": [
              "[<matplotlib.lines.Line2D at 0x7fe411d70cd0>]"
            ]
          },
          "metadata": {},
          "execution_count": 16
        },
        {
          "output_type": "display_data",
          "data": {
            "text/plain": [
              "<Figure size 432x288 with 2 Axes>"
            ],
            "image/png": "[encoded data removed]"
          },
          "metadata": {
            "needs_background": "light"
          }
        }
      ]
    },
    {
      "cell_type": "code",
      "source": [
        "m1 = E_est1 + R_est1 * i1;\n",
        "m2 = E_est2 + R_est2 * i2;\n",
        "r1 = u1 - m1;\n",
        "r2 = u2 - m2;"
      ],
      "metadata": {
        "id": "PWJH3iBIt2nB"
      },
      "execution_count": null,
      "outputs": []
    },
    {
      "cell_type": "code",
      "source": [
        "edges = np.linspace(-7, 7, 57);\n",
        "plt.hist(r1, edges);"
      ],
      "metadata": {
        "colab": {
          "base_uri": "https://localhost:8080/",
          "height": 265
        },
        "id": "jLCUc0xt255X",
        "outputId": "a8990a92-9ee3-4b32-bc2c-e7f7ddc5b853"
      },
      "execution_count": null,
      "outputs": [
        {
          "output_type": "display_data",
          "data": {
            "text/plain": [
              "<Figure size 432x288 with 1 Axes>"
            ],
            "image/png": "[encoded data removed]"
          },
          "metadata": {
            "needs_background": "light"
          }
        }
      ]
    },
    {
      "cell_type": "code",
      "source": [
        "edges = np.linspace(-7, 7, 57);\n",
        "plt.hist(r2, edges);"
      ],
      "metadata": {
        "id": "96V0WiCP8EFg",
        "colab": {
          "base_uri": "https://localhost:8080/",
          "height": 265
        },
        "outputId": "0935b6c1-e1ba-43e7-8cb3-73e33e54df98"
      },
      "execution_count": null,
      "outputs": [
        {
          "output_type": "display_data",
          "data": {
            "text/plain": [
              "<Figure size 432x288 with 1 Axes>"
            ],
            "image/png": "[encoded data removed]"
          },
          "metadata": {
            "needs_background": "light"
          }
        }
      ]
    },
    {
      "cell_type": "code",
      "source": [],
      "metadata": {
        "id": "y7Rs132zXSfS"
      },
      "execution_count": null,
      "outputs": []
    }
  ]
}